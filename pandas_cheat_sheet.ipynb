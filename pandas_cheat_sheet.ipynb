{
 "cells": [
  {
   "cell_type": "markdown",
   "metadata": {},
   "source": [
    "<h2>Pandas Cheat Sheet</h2>\n",
    "<h3>Topics Covered:</h3>\n",
    "<ul>\n",
    "    <li>Basic CRUD Operation</li>\n",
    "    <li>Viewing DataFrame Info</li>\n",
    "    <li>Regression</li>\n",
    "</ul>"
   ]
  },
  {
   "cell_type": "markdown",
   "metadata": {},
   "source": [
    "<h3>Create</h3>"
   ]
  },
  {
   "cell_type": "code",
   "execution_count": 2,
   "metadata": {},
   "outputs": [
    {
     "name": "stdout",
     "output_type": "stream",
     "text": [
      "         Date      Open      High       Low     Close  Adj Close     Volume\n",
      "0  1980-12-12  0.128348  0.128906  0.128348  0.128348   0.100178  469033600\n",
      "1  1980-12-15  0.122210  0.122210  0.121652  0.121652   0.094952  175884800\n",
      "2  1980-12-16  0.113281  0.113281  0.112723  0.112723   0.087983  105728000\n",
      "3  1980-12-17  0.115513  0.116071  0.115513  0.115513   0.090160   86441600\n",
      "4  1980-12-18  0.118862  0.119420  0.118862  0.118862   0.092774   73449600\n"
     ]
    }
   ],
   "source": [
    "# Let's start with an example of how regression might be performed for data representing\n",
    "# the price of a stock over time\n",
    "\n",
    "import pandas as pd\n",
    "\n",
    "# Load the data into a pandas dataframe\n",
    "df = pd.read_csv('AAPL.csv')\n",
    "\n",
    "# The following lines demonstrate how to perform exploratory data analysis on the data\n",
    "# Print the first 5 rows of the dataframe\n",
    "print(df.head())"
   ]
  },
  {
   "cell_type": "code",
   "execution_count": 12,
   "metadata": {},
   "outputs": [
    {
     "name": "stdout",
     "output_type": "stream",
     "text": [
      "<class 'pandas.core.frame.DataFrame'>\n",
      "RangeIndex: 10468 entries, 0 to 10467\n",
      "Data columns (total 7 columns):\n",
      " #   Column     Non-Null Count  Dtype  \n",
      "---  ------     --------------  -----  \n",
      " 0   Date       10468 non-null  object \n",
      " 1   Open       10468 non-null  float64\n",
      " 2   High       10468 non-null  float64\n",
      " 3   Low        10468 non-null  float64\n",
      " 4   Close      10468 non-null  float64\n",
      " 5   Adj Close  10468 non-null  float64\n",
      " 6   Volume     10468 non-null  int64  \n",
      "dtypes: float64(5), int64(1), object(1)\n",
      "memory usage: 572.6+ KB\n",
      "None\n"
     ]
    }
   ],
   "source": [
    "# Print the data types of each column along with the number of non-null values\n",
    "print(df.info())"
   ]
  },
  {
   "cell_type": "code",
   "execution_count": 13,
   "metadata": {},
   "outputs": [
    {
     "name": "stdout",
     "output_type": "stream",
     "text": [
      "               Open          High           Low         Close     Adj Close  \\\n",
      "count  10468.000000  10468.000000  10468.000000  10468.000000  10468.000000   \n",
      "mean      14.757987     14.921491     14.594484     14.763533     14.130431   \n",
      "std       31.914174     32.289158     31.543959     31.929489     31.637275   \n",
      "min        0.049665      0.049665      0.049107      0.049107      0.038329   \n",
      "25%        0.283482      0.289286      0.276786      0.283482      0.235462   \n",
      "50%        0.474107      0.482768      0.465960      0.475446      0.392373   \n",
      "75%       14.953303     15.057143     14.692589     14.901964     12.835269   \n",
      "max      182.630005    182.940002    179.119995    182.009995    181.511703   \n",
      "\n",
      "             Volume  \n",
      "count  1.046800e+04  \n",
      "mean   3.308489e+08  \n",
      "std    3.388418e+08  \n",
      "min    0.000000e+00  \n",
      "25%    1.237768e+08  \n",
      "50%    2.181592e+08  \n",
      "75%    4.105794e+08  \n",
      "max    7.421641e+09  \n"
     ]
    }
   ],
   "source": [
    "  # Print summary statistics for each column (for numeric columns only)\n",
    "print(df.describe())"
   ]
  },
  {
   "cell_type": "code",
   "execution_count": 14,
   "metadata": {},
   "outputs": [
    {
     "name": "stdout",
     "output_type": "stream",
     "text": [
      "              Date\n",
      "count        10468\n",
      "unique       10468\n",
      "top     1980-12-12\n",
      "freq             1\n"
     ]
    }
   ],
   "source": [
    "  # Print summary statistics for each column (for non-numeric columns only)\n",
    "print(df.describe(include='object'))"
   ]
  },
  {
   "cell_type": "code",
   "execution_count": 21,
   "metadata": {},
   "outputs": [
    {
     "name": "stdout",
     "output_type": "stream",
     "text": [
      "<class 'pandas.core.frame.DataFrame'>\n",
      "RangeIndex: 10468 entries, 0 to 10467\n",
      "Data columns (total 7 columns):\n",
      " #   Column     Non-Null Count  Dtype         \n",
      "---  ------     --------------  -----         \n",
      " 0   Date       10468 non-null  datetime64[ns]\n",
      " 1   Open       10468 non-null  float64       \n",
      " 2   High       10468 non-null  float64       \n",
      " 3   Low        10468 non-null  float64       \n",
      " 4   Close      10468 non-null  float64       \n",
      " 5   Adj Close  10468 non-null  float64       \n",
      " 6   Volume     10468 non-null  int64         \n",
      "dtypes: datetime64[ns](1), float64(5), int64(1)\n",
      "memory usage: 572.6 KB\n",
      "None\n"
     ]
    }
   ],
   "source": [
    "'''\n",
    "Accessing columns in a pandas dataframe - columns are the keys\n",
    "- In many cases, if a column intends to represent dates, the type might need to be cast to datetime\n",
    "- if the type is 'object' it may or may not be in datetime, and may need to be cast as such.\n",
    "- 'YYYY-MM-DD' is the a common format for dates in pandas\n",
    "'''\n",
    "\n",
    "df['Date'] = pd.to_datetime(df['Date'])\n",
    "\n",
    "# 'Date' column will now be of type datetime64\n",
    "print(df.info())"
   ]
  },
  {
   "cell_type": "code",
   "execution_count": 22,
   "metadata": {},
   "outputs": [
    {
     "name": "stdout",
     "output_type": "stream",
     "text": [
      "             Open       Close\n",
      "0        0.128348    0.128348\n",
      "1        0.122210    0.121652\n",
      "2        0.113281    0.112723\n",
      "3        0.115513    0.115513\n",
      "4        0.118862    0.118862\n",
      "...           ...         ...\n",
      "10463  132.869995  131.880005\n",
      "10464  133.130005  132.759995\n",
      "10465  134.289993  135.429993\n",
      "10466  132.080002  130.059998\n",
      "10467  130.070007  131.559998\n",
      "\n",
      "[10468 rows x 2 columns]\n"
     ]
    }
   ],
   "source": [
    "# Access multiple columns by passing a list of column names\n",
    "print(df[['Open', 'Close']])"
   ]
  },
  {
   "cell_type": "code",
   "execution_count": 3,
   "metadata": {},
   "outputs": [
    {
     "name": "stdout",
     "output_type": "stream",
     "text": [
      "Mean Squared Error (MSE): 158.1165\n",
      "Root Mean Squared Error (RMSE): 12.5744\n"
     ]
    },
    {
     "data": {
      "image/png": "[encoded data removed]",
      "text/plain": [
       "<Figure size 1000x600 with 1 Axes>"
      ]
     },
     "metadata": {},
     "output_type": "display_data"
    }
   ],
   "source": [
    "# Now, let's perform some actual analysis and regression on the data\n",
    "\n",
    "import pandas as pd\n",
    "import numpy as np\n",
    "import matplotlib.pyplot as plt\n",
    "from statsmodels.tsa.arima.model import ARIMA\n",
    "from sklearn.metrics import mean_squared_error\n",
    "\n",
    "# Split the data into training and testing sets\n",
    "train_data = df['Close'][:len(df) - 100]  # closing prices up from beginnning up to last 100 data points\n",
    "test_data = df['Close'][-100:]  # last 100 data points for testing\n",
    "\n",
    "# Create and fit the ARIMA model\n",
    "model = ARIMA(train_data, order=(1, 1, 1))\n",
    "model_fit = model.fit()\n",
    "\n",
    "# Make predictions on the testing data\n",
    "predictions = model_fit.forecast(steps=len(test_data))\n",
    "\n",
    "# Evaluate the model's performance\n",
    "mse = mean_squared_error(test_data, predictions)  # measure average squared difference between actual vs predicted values\n",
    "rmse = np.sqrt(mse)  \n",
    "print(f\"Mean Squared Error (MSE): {mse:.4f}\")\n",
    "print(f\"Root Mean Squared Error (RMSE): {rmse:.4f}\")\n",
    "\n",
    "# Visualize the actual and predicted stock prices\n",
    "plt.figure(figsize=(10, 6))\n",
    "plt.plot(train_data.index, train_data, label='Training Data')\n",
    "plt.plot(test_data.index, test_data, label='Actual Price')\n",
    "plt.plot(test_data.index, predictions, label='Predicted Price')\n",
    "plt.xlabel('Date')\n",
    "plt.ylabel('Price')\n",
    "plt.title('Stock Price Prediction')\n",
    "plt.legend()\n",
    "plt.show()"
   ]
  }
 ],
 "metadata": {
  "kernelspec": {
   "display_name": "data_vis",
   "language": "python",
   "name": "python3"
  },
  "language_info": {
   "codemirror_mode": {
    "name": "ipython",
    "version": 3
   },
   "file_extension": ".py",
   "mimetype": "text/x-python",
   "name": "python",
   "nbconvert_exporter": "python",
   "pygments_lexer": "ipython3",
   "version": "3.12.3"
  }
 },
 "nbformat": 4,
 "nbformat_minor": 2
}
