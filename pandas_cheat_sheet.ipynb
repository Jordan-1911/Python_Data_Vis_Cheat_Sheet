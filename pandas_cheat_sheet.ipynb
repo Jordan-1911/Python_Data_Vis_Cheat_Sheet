{
 "cells": [
  {
   "cell_type": "markdown",
   "metadata": {},
   "source": [
    "<h2>Pandas Cheat Sheet</h2>\n",
    "<h3>Topics Covered:</h3>\n",
    "<ul>\n",
    "    <li>Basic CRUD Operation</li>\n",
    "    <li>Viewing DataFrame Info</li>\n",
    "    <li>Regression</li>\n",
    "</ul>"
   ]
  },
  {
   "cell_type": "markdown",
   "metadata": {},
   "source": [
    "<h3>Create</h3>"
   ]
  },
  {
   "cell_type": "code",
   "execution_count": null,
   "metadata": {},
   "outputs": [],
   "source": [
    "# Let's start with an example of how regression might be performed for data representing\n",
    "# the price of a stock over time\n",
    "\n",
    "import pandas as pd\n",
    "\n",
    "# Load the data into a pandas dataframe\n",
    "df = pd.read_csv('AAPL.csv')\n",
    "\n",
    "# The following lines demonstrate how to perform exploratory data analysis on the data\n",
    "# Print the first 5 rows of the dataframe\n",
    "print(df.head())"
   ]
  },
  {
   "cell_type": "code",
   "execution_count": null,
   "metadata": {},
   "outputs": [],
   "source": [
    "# Print the data types of each column along with the number of non-null values\n",
    "print(df.info())"
   ]
  },
  {
   "cell_type": "code",
   "execution_count": null,
   "metadata": {},
   "outputs": [],
   "source": [
    "  # Print summary statistics for each column (for numeric columns only)\n",
    "print(df.describe())"
   ]
  },
  {
   "cell_type": "code",
   "execution_count": null,
   "metadata": {},
   "outputs": [],
   "source": [
    "  # Print summary statistics for each column (for non-numeric columns only)\n",
    "print(df.describe(include='object'))"
   ]
  },
  {
   "cell_type": "code",
   "execution_count": null,
   "metadata": {},
   "outputs": [],
   "source": [
    "'''\n",
    "Accessing columns in a pandas dataframe - columns are the keys\n",
    "- In many cases, if a column intends to represent dates, the type might need to be cast to datetime\n",
    "- if the type is 'object' it may or may not be in datetime, and may need to be cast as such.\n",
    "- 'YYYY-MM-DD' is the a common format for dates in pandas\n",
    "'''\n",
    "\n",
    "df['Date'] = pd.to_datetime(df['Date'])\n",
    "\n",
    "# 'Date' column will now be of type datetime64\n",
    "print(df.info())"
   ]
  },
  {
   "cell_type": "code",
   "execution_count": null,
   "metadata": {},
   "outputs": [],
   "source": [
    "# Access multiple columns by passing a list of column names\n",
    "print(df[['Open', 'Close']])"
   ]
  },
  {
   "cell_type": "code",
   "execution_count": null,
   "metadata": {},
   "outputs": [],
   "source": [
    "# Now, let's perform some actual analysis and regression on the data\n",
    "\n",
    "import pandas as pd\n",
    "import numpy as np\n",
    "import matplotlib.pyplot as plt\n",
    "from statsmodels.tsa.arima.model import ARIMA\n",
    "from sklearn.metrics import mean_squared_error\n",
    "\n",
    "# Split the data into training and testing sets\n",
    "train_data = df['Close'][:len(df) - 100]  # closing prices up from beginnning up to last 100 data points\n",
    "test_data = df['Close'][-100:]  # last 100 data points for testing\n",
    "\n",
    "# Create and fit the ARIMA model\n",
    "model = ARIMA(train_data, order=(1, 1, 1))\n",
    "model_fit = model.fit()\n",
    "\n",
    "# Make predictions on the testing data\n",
    "predictions = model_fit.forecast(steps=len(test_data))\n",
    "\n",
    "# Evaluate the model's performance\n",
    "mse = mean_squared_error(test_data, predictions)  # measure average squared difference between actual vs predicted values\n",
    "rmse = np.sqrt(mse)  \n",
    "print(f\"Mean Squared Error (MSE): {mse:.4f}\")\n",
    "print(f\"Root Mean Squared Error (RMSE): {rmse:.4f}\")\n",
    "\n",
    "# Visualize the actual and predicted stock prices\n",
    "plt.figure(figsize=(10, 6))\n",
    "plt.plot(train_data.index, train_data, label='Training Data')\n",
    "plt.plot(test_data.index, test_data, label='Actual Price')\n",
    "plt.plot(test_data.index, predictions, label='Predicted Price')\n",
    "plt.xlabel('Date')\n",
    "plt.ylabel('Price')\n",
    "plt.title('Stock Price Prediction')\n",
    "plt.legend()\n",
    "plt.show()"
   ]
  },
  {
   "cell_type": "markdown",
   "metadata": {},
   "source": [
    "<h3>Removing leading/trailing whitespace</h3>"
   ]
  },
  {
   "cell_type": "code",
   "execution_count": null,
   "metadata": {},
   "outputs": [],
   "source": [
    "import pandas as pd\n",
    "import numpy as np\n",
    "\n",
    "num_rows = 10\n",
    "\n",
    "# Create a dictionary of data w leading/trailing spaces in column names and values\n",
    "cols = {\n",
    "    'ID': np.arange(num_rows),\n",
    "    '  Programming Langauge   ': np.random.choice(['Java   ', '   Python', ' JavaScript  '], num_rows),\n",
    "    '  Score  ': np.random.randint(60, 100, num_rows)\n",
    "}\n",
    "\n",
    "# Create a dataframe from the dictionary\n",
    "df = pd.DataFrame(cols)\n",
    "\n",
    "# For loop can be used to remove leading/trailing spaces from column names\n",
    "# Removing leading/trailing spaces from all columns\n",
    "df = df.rename(columns={col: col.strip() for col in df.columns})\n",
    "\n",
    "print(df.columns)"
   ]
  },
  {
   "cell_type": "code",
   "execution_count": null,
   "metadata": {},
   "outputs": [],
   "source": [
    "import pandas as pd\n",
    "import numpy as np\n",
    "\n",
    "# We can also use a lambda expression to perfrom the same operation\n",
    "\n",
    "num_rows = 10\n",
    "\n",
    "# Create a dictionary of data w leading/trailing spaces in column names and values\n",
    "cols = {\n",
    "    'ID': np.arange(num_rows),\n",
    "    '  Programming Langauge   ': np.random.choice(['Java   ', '   Python', ' JavaScript  '], num_rows),\n",
    "    '  Score  ': np.random.randint(60, 100, num_rows)\n",
    "}\n",
    "\n",
    "# Create a dataframe from the dictionary\n",
    "df = pd.DataFrame(cols)\n",
    "\n",
    "# For loop can be used to remove leading/trailing spaces from column names\n",
    "# Removing leading/trailing spaces from all columns\n",
    "df = df.rename(columns=lambda x: x.strip())\n",
    "\n",
    "print(df.columns)\n"
   ]
  },
  {
   "cell_type": "markdown",
   "metadata": {},
   "source": [
    "<h3>Reading a TSV file</h3>"
   ]
  },
  {
   "cell_type": "code",
   "execution_count": null,
   "metadata": {},
   "outputs": [],
   "source": [
    "# Same steps, only use sep='\\t' to indicate that the data is tab-separated\n",
    "df = pd.read_csv('data.txt', sep='\\t')"
   ]
  },
  {
   "cell_type": "markdown",
   "metadata": {},
   "source": [
    "<h3>Reading an Excel file</h3>"
   ]
  },
  {
   "cell_type": "code",
   "execution_count": null,
   "metadata": {},
   "outputs": [],
   "source": [
    "# Basic reading\n",
    "pd.read_excel('data.xlsx')"
   ]
  },
  {
   "cell_type": "code",
   "execution_count": null,
   "metadata": {},
   "outputs": [],
   "source": [
    "# Specify the sheet name\n",
    "pd.read_excel('data.xlsx', sheet_name='Sheet1')"
   ]
  },
  {
   "cell_type": "code",
   "execution_count": null,
   "metadata": {},
   "outputs": [],
   "source": [
    "# Skip rows if necessary\n",
    "pd.read_csv('data.csv', skiprows=2)"
   ]
  },
  {
   "cell_type": "code",
   "execution_count": null,
   "metadata": {},
   "outputs": [],
   "source": [
    "# Read sheet names\n",
    "pd.ExcelFile('data.xlsx').sheet_names"
   ]
  },
  {
   "cell_type": "markdown",
   "metadata": {},
   "source": [
    "<h3>Basic Statistics</h3>"
   ]
  },
  {
   "cell_type": "code",
   "execution_count": null,
   "metadata": {},
   "outputs": [],
   "source": [
    "# Obtain min/mean/max of non-obect columns\n",
    "print(df.describe())"
   ]
  },
  {
   "cell_type": "code",
   "execution_count": null,
   "metadata": {},
   "outputs": [],
   "source": [
    "# Calculate the mean of a specific column\n",
    "df['column_name'].mean()"
   ]
  },
  {
   "cell_type": "code",
   "execution_count": null,
   "metadata": {},
   "outputs": [],
   "source": [
    "# Calculate median of a specific column\n",
    "df['column_name'].median()"
   ]
  },
  {
   "cell_type": "code",
   "execution_count": null,
   "metadata": {},
   "outputs": [],
   "source": [
    "# Calculate the mode of a specific column\n",
    "df['column_name'].mode()"
   ]
  },
  {
   "cell_type": "code",
   "execution_count": null,
   "metadata": {},
   "outputs": [],
   "source": [
    "# Calcuate min/max of a specific column\n",
    "df['column_name'].min()\n",
    "df['column_name'].max()"
   ]
  },
  {
   "cell_type": "markdown",
   "metadata": {},
   "source": [
    "<h3>Miscellaneous Data Frame Formatting</h3>"
   ]
  },
  {
   "cell_type": "code",
   "execution_count": null,
   "metadata": {},
   "outputs": [],
   "source": [
    "# Transpose a dataframe\n",
    "df_transposed = df.T"
   ]
  }
 ],
 "metadata": {
  "kernelspec": {
   "display_name": "data_vis",
   "language": "python",
   "name": "python3"
  },
  "language_info": {
   "codemirror_mode": {
    "name": "ipython",
    "version": 3
   },
   "file_extension": ".py",
   "mimetype": "text/x-python",
   "name": "python",
   "nbconvert_exporter": "python",
   "pygments_lexer": "ipython3",
   "version": "3.12.3"
  }
 },
 "nbformat": 4,
 "nbformat_minor": 2
}
